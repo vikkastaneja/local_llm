{
 "cells": [
  {
   "cell_type": "code",
   "execution_count": 3,
   "id": "8f50bc65",
   "metadata": {},
   "outputs": [
    {
     "name": "stdout",
     "output_type": "stream",
     "text": [
      "225568\n",
      "Hindu Tales from the Sanskrit\n",
      "\n",
      "\n",
      "Translated by\n",
      "S. M. Mitra\n",
      "\n",
      "Adapted by\n",
      "Mrs. Arthur Bell\n",
      "\n",
      "1919\n",
      "\n",
      "\n",
      "Contents\n",
      "\n",
      " INTRODUCTORY NOTE\n",
      "\n",
      " 1. The Magic Pitcher\n",
      " 2. The Story of a Cat, a Mouse, a Lizard and an Owl\n",
      "\n",
      "['\\n', ' ', '!', '*', ',', '-', '.', '0', '1', '2', '3', '4', '5', '6', '7', '8', '9', ':', ';', '?', 'A', 'B', 'C', 'D', 'E', 'F', 'G', 'H', 'I', 'J', 'K', 'L', 'M', 'N', 'O', 'P', 'R', 'S', 'T', 'U', 'V', 'W', 'X', 'Y', '[', ']', '_', 'a', 'b', 'c', 'd', 'e', 'f', 'g', 'h', 'i', 'j', 'k', 'l', 'm', 'n', 'o', 'p', 'q', 'r', 's', 't', 'u', 'v', 'w', 'x', 'y', 'z', '—', '‘', '’', '“', '”']\n",
      "78\n"
     ]
    }
   ],
   "source": [
    "with open('pg11310.txt', 'r', encoding='utf-8') as f:\n",
    "    text = f.read()\n",
    "\n",
    "print(len(text))\n",
    "print(text[:200])\n",
    "\n",
    "chars = sorted(set(text))\n",
    "print(chars)\n",
    "\n",
    "print(len(chars))"
   ]
  },
  {
   "cell_type": "code",
   "execution_count": 4,
   "id": "158b3409",
   "metadata": {},
   "outputs": [
    {
     "name": "stdout",
     "output_type": "stream",
     "text": [
      "hello\n"
     ]
    }
   ],
   "source": [
    "string_to_int = {ch:i for i, ch in enumerate(chars)}\n",
    "int_to_string = {i:ch for i, ch in enumerate(chars)}\n",
    "encode = lambda s: [string_to_int[c] for c in s]\n",
    "decode = lambda l: ''.join([int_to_string[i] for i in l])\n",
    "\n",
    "print(decode(encode('hello')))"
   ]
  },
  {
   "cell_type": "code",
   "execution_count": 5,
   "id": "03e5e298",
   "metadata": {},
   "outputs": [
    {
     "name": "stdout",
     "output_type": "stream",
     "text": [
      "mps\n"
     ]
    }
   ],
   "source": [
    "import torch\n",
    "# device = 'cuda' if torch.cuda.is_available() else 'cpu'\n",
    "device = 'mps' if torch.backends.mps.is_available() else 'cpu'\n",
    "\n",
    "print(device)"
   ]
  },
  {
   "cell_type": "code",
   "execution_count": 6,
   "id": "3c0d367e",
   "metadata": {},
   "outputs": [],
   "source": [
    "data = torch.tensor(encode(text), dtype=torch.long)"
   ]
  },
  {
   "cell_type": "code",
   "execution_count": 7,
   "id": "ba59e12a",
   "metadata": {},
   "outputs": [
    {
     "name": "stdout",
     "output_type": "stream",
     "text": [
      "tensor([27, 55, 60, 50, 67,  1, 38, 47, 58, 51, 65,  1, 52, 64, 61, 59,  1, 66,\n",
      "        54, 51,  1, 37, 47, 60, 65, 57, 64, 55, 66,  0,  0,  0, 38, 64, 47, 60,\n",
      "        65, 58, 47, 66, 51, 50,  1, 48, 71,  0, 37,  6,  1, 32,  6,  1, 32, 55,\n",
      "        66, 64, 47,  0,  0, 20, 50, 47, 62, 66, 51, 50,  1, 48, 71,  0, 32, 64,\n",
      "        65,  6,  1, 20, 64, 66, 54, 67, 64,  1, 21, 51, 58, 58,  0,  0,  8, 16,\n",
      "         8, 16,  0,  0,  0, 22, 61, 60, 66, 51])\n"
     ]
    }
   ],
   "source": [
    "print(data[:100])"
   ]
  },
  {
   "cell_type": "code",
   "execution_count": 8,
   "id": "a35e69f3",
   "metadata": {},
   "outputs": [],
   "source": [
    "n = int(0.8*len(data))\n",
    "train_data = data[:n]\n",
    "val_data = data[n:]"
   ]
  },
  {
   "cell_type": "code",
   "execution_count": 9,
   "id": "8baab1b1",
   "metadata": {},
   "outputs": [
    {
     "name": "stdout",
     "output_type": "stream",
     "text": [
      "180454\n",
      "------\n",
      "tensor([27, 55, 60,  ..., 66, 54, 61])\n",
      "------\n",
      "tensor([67, 53, 54,  ...,  0,  0,  0])\n"
     ]
    }
   ],
   "source": [
    "print(n)\n",
    "print('------')\n",
    "print(train_data)\n",
    "print('------')\n",
    "print(val_data)"
   ]
  },
  {
   "cell_type": "code",
   "execution_count": 10,
   "id": "199d75a1",
   "metadata": {},
   "outputs": [
    {
     "name": "stdout",
     "output_type": "stream",
     "text": [
      "when input is tensor([27]) target is tensor(55)\n",
      "when input is tensor([27, 55]) target is tensor(60)\n",
      "when input is tensor([27, 55, 60]) target is tensor(50)\n",
      "when input is tensor([27, 55, 60, 50]) target is tensor(67)\n",
      "when input is tensor([27, 55, 60, 50, 67]) target is tensor(1)\n",
      "when input is tensor([27, 55, 60, 50, 67,  1]) target is tensor(38)\n",
      "when input is tensor([27, 55, 60, 50, 67,  1, 38]) target is tensor(47)\n",
      "when input is tensor([27, 55, 60, 50, 67,  1, 38, 47]) target is tensor(58)\n"
     ]
    }
   ],
   "source": [
    "block_size = 8\n",
    "x = train_data[:block_size]\n",
    "y = train_data[1:block_size+1]\n",
    "\n",
    "for t in range(block_size):\n",
    "    context = x[:t+1]\n",
    "    target = y[t]\n",
    "    print('when input is', context, 'target is', target)"
   ]
  },
  {
   "cell_type": "code",
   "execution_count": null,
   "id": "03654151",
   "metadata": {},
   "outputs": [],
   "source": []
  }
 ],
 "metadata": {
  "kernelspec": {
   "display_name": "Python 3",
   "language": "python",
   "name": "python3"
  },
  "language_info": {
   "codemirror_mode": {
    "name": "ipython",
    "version": 3
   },
   "file_extension": ".py",
   "mimetype": "text/x-python",
   "name": "python",
   "nbconvert_exporter": "python",
   "pygments_lexer": "ipython3",
   "version": "3.10.13"
  }
 },
 "nbformat": 4,
 "nbformat_minor": 5
}
